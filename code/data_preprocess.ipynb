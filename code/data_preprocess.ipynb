{
 "cells": [
  {
   "cell_type": "code",
   "execution_count": 1,
   "source": [
    "import os\r\n",
    "import numpy as np\r\n",
    "import random\r\n",
    "import torch\r\n",
    "import torch.nn as nn\r\n",
    "import torch.nn.functional as F\r\n",
    "from torch.utils.data import Dataset, DataLoader, random_split\r\n",
    "import torchvision\r\n",
    "from torchvision import datasets, transforms\r\n",
    "from PIL import Image\r\n",
    "import matplotlib.image as IMG\r\n",
    "import shutil\r\n",
    "\r\n",
    "#   yolov3中letterbox_image图片剪裁方法\r\n",
    "#   原作者:https://blog.csdn.net/qq_36767550/article/details/112499530\r\n",
    "#   输入为PIL的Image,尺寸如(250,250)\r\n",
    "def letterbox_image(image, size): #降低图片大小和分辨率\r\n",
    "    \"\"\"\r\n",
    "    image:原始图片\r\n",
    "    size：需要缩放成的大小\r\n",
    "\r\n",
    "    \"\"\"\r\n",
    "    iw, ih = image.size\r\n",
    "    w, h = size\r\n",
    "    scale = min(w/iw, h/ih) #scale 框的大小与原图大小比值 小数\r\n",
    "\r\n",
    "    nw = int(iw*scale)    #原图乘以 比值  获得新的图片大小\r\n",
    "    nh = int(ih*scale)    #原图乘以 比值\r\n",
    "\r\n",
    "    image = image.resize((nw,nh), Image.BICUBIC)     #将原始图片用Image.BICUBIC的方式进行缩放\r\n",
    "    new_image = Image.new('RGB', size, (128,128,128))  # new 一张新的图片\r\n",
    "    new_image.paste(image, ((w-nw)//2, (h-nh)//2))     #将新的图片贴在image上面\r\n",
    "\r\n",
    "    return new_image  #返回被贴了的图片\r\n",
    "\r\n",
    " \r\n",
    "\r\n",
    "#   创建所需目录\r\n",
    "# os.mkdir('../cropped_dataset')\r\n",
    "# os.mkdir('../cropped_dataset/images')\r\n",
    "# os.mkdir('../cropped_dataset/labels_colored')\r\n",
    "# os.mkdir('../cropped_dataset/labels')\r\n",
    "\r\n",
    "#   对原始图片和标签图片进行letterbox处理\r\n",
    "#   需要在code同级目录下有：\r\n",
    "#   cropped_dataset/images/\r\n",
    "#   cropped_dataset/labels_colored/\r\n",
    "#   目录\r\n",
    "# for x in os.scandir('../dataset/images'):\r\n",
    "#     cropped_img = letterbox_image(Image.open(os.path.relpath(x)),(512,512))\r\n",
    "#     cropped_img.save('../cropped_dataset/images/' + os.path.split(os.path.relpath(x))[-1])\r\n",
    "\r\n",
    "# for x in os.scandir('../dataset/labels_colored'):\r\n",
    "#     cropped_img = letterbox_image(Image.open(os.path.relpath(x)),(388,388))\r\n",
    "#     cropped_img.save('../cropped_dataset/labels_colored/' + os.path.split(os.path.relpath(x))[-1])\r\n",
    "\r\n",
    "\r\n",
    "\r\n",
    "\r\n"
   ],
   "outputs": [],
   "metadata": {}
  },
  {
   "cell_type": "code",
   "execution_count": null,
   "source": [
    "#   将色图转成文字形式的标签文件\r\n",
    "for x in os.scandir('../cropped_dataset/labels_colored/'):\r\n",
    "    img = Image.open(os.path.relpath(x))\r\n",
    "    img = torch.from_numpy(np.array(img)).view(388 ** 2,3)\r\n",
    "    label_str = \"\"\r\n",
    "    for rgb in img:\r\n",
    "        if (rgb[0]==68 and rgb[1] == 1 and rgb[2] == 84):\r\n",
    "            label_str += \"0\"   #sky\r\n",
    "            #print(\"标签:\"+'0')\r\n",
    "            continue\r\n",
    "        if (rgb[0]==72 and rgb[1] == 40 and rgb[2] == 140):\r\n",
    "            label_str += \"1\"    #tree\r\n",
    "            #print(\"标签:\"+'1')\r\n",
    "            continue\r\n",
    "        if (rgb[0]==62 and rgb[1] == 74 and rgb[2] == 137):\r\n",
    "            label_str += \"2\"    #road\r\n",
    "            #print(\"标签:\"+'2')\r\n",
    "            continue\r\n",
    "        if (rgb[0]==38 and rgb[1] == 130 and rgb[2] == 142):\r\n",
    "            label_str += \"3\"    #grass\r\n",
    "            #print(\"标签:\"+'3')\r\n",
    "            continue\r\n",
    "        if (rgb[0]==31 and rgb[1] == 158 and rgb[2] == 137):\r\n",
    "            label_str += \"4\"    #water\r\n",
    "            #print(\"标签:\"+'4')\r\n",
    "            continue\r\n",
    "        if (rgb[0]==53 and rgb[1] == 183 and rgb[2] == 121):\r\n",
    "            label_str += \"5\"    #building\r\n",
    "            #print(\"标签:\"+'5')\r\n",
    "            continue\r\n",
    "        if (rgb[0]==109 and rgb[1] == 205 and rgb[2] == 89):\r\n",
    "            label_str += \"6\"    #mountain\r\n",
    "            #print(\"标签:\"+'6')\r\n",
    "            continue\r\n",
    "        if (rgb[0]==180 and rgb[1] == 222 and rgb[2] == 44):\r\n",
    "            label_str += \"7\"    #foreground\r\n",
    "            #print(\"标签:\"+'7')\r\n",
    "            continue\r\n",
    "    \r\n",
    "        label_str += \"8\"    #   unknown\r\n",
    "\r\n",
    "    with open('../cropped_dataset/labels/'+os.path.split(os.path.relpath(x))[-1].split('.')[0]+\".txt\",'w') as f:    #设置文件对象\r\n",
    "        f.write(label_str) \r\n"
   ],
   "outputs": [],
   "metadata": {}
  },
  {
   "cell_type": "code",
   "execution_count": 10,
   "source": [
    "1./255"
   ],
   "outputs": [
    {
     "output_type": "execute_result",
     "data": {
      "text/plain": [
       "0.00392156862745098"
      ]
     },
     "metadata": {},
     "execution_count": 10
    }
   ],
   "metadata": {}
  }
 ],
 "metadata": {
  "orig_nbformat": 4,
  "language_info": {
   "name": "python",
   "version": "3.7.10",
   "mimetype": "text/x-python",
   "codemirror_mode": {
    "name": "ipython",
    "version": 3
   },
   "pygments_lexer": "ipython3",
   "nbconvert_exporter": "python",
   "file_extension": ".py"
  },
  "kernelspec": {
   "name": "python3",
   "display_name": "Python 3.7.10 64-bit ('pytorch': conda)"
  },
  "interpreter": {
   "hash": "663e9bff0f8e489cfb11a535201dd029d3f4b5dbba25ed4b671d30c0c2c6bfa9"
  }
 },
 "nbformat": 4,
 "nbformat_minor": 2
}